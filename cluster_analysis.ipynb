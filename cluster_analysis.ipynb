{
 "cells": [
  {
   "cell_type": "code",
   "execution_count": 1,
   "metadata": {},
   "outputs": [
    {
     "name": "stderr",
     "output_type": "stream",
     "text": [
      "/Users/yenchenlu/.pyenv/versions/3.10.13/envs/img-classification-env/lib/python3.10/site-packages/tqdm/auto.py:21: TqdmWarning: IProgress not found. Please update jupyter and ipywidgets. See https://ipywidgets.readthedocs.io/en/stable/user_install.html\n",
      "  from .autonotebook import tqdm as notebook_tqdm\n"
     ]
    }
   ],
   "source": [
    "# Import necessary libraries\n",
    "import os\n",
    "import pandas as pd\n",
    "import numpy as np\n",
    "import matplotlib.pyplot as plt\n",
    "import plotly.graph_objects as go\n",
    "from plotly.subplots import make_subplots\n",
    "from sklearn.cluster import KMeans\n",
    "from sklearn.decomposition import PCA\n",
    "from sklearn.preprocessing import StandardScaler\n",
    "import umap.umap_ as umap\n",
    "import pickle\n",
    "from kneed import KneeLocator\n",
    "\n",
    "# Import Seaborn for styling\n",
    "import seaborn as sns\n",
    "\n",
    "# Set Seaborn style\n",
    "sns.set(style=\"whitegrid\")\n",
    "\n",
    "# Set Plotly to render in the notebook\n",
    "import plotly.io as pio\n",
    "pio.renderers.default = 'notebook_connected'\n",
    "\n",
    "# Suppress warnings for cleaner output\n",
    "import warnings\n",
    "warnings.filterwarnings('ignore')\n",
    "\n",
    "# Set global plotting styles\n",
    "plt.rcParams['font.family'] = ['Heiti TC']  # For displaying Chinese characters if needed\n",
    "plt.rcParams['figure.figsize'] = (10, 6)"
   ]
  },
  {
   "cell_type": "markdown",
   "metadata": {},
   "source": [
    "## Load Preprocessed Data\n",
    "\n",
    "Load the preprocessed data exported from the preprocessing notebook. This includes both the original and Gaussian-filtered images."
   ]
  },
  {
   "cell_type": "code",
   "execution_count": 2,
   "metadata": {},
   "outputs": [
    {
     "data": {
      "text/html": [
       "<div>\n",
       "<style scoped>\n",
       "    .dataframe tbody tr th:only-of-type {\n",
       "        vertical-align: middle;\n",
       "    }\n",
       "\n",
       "    .dataframe tbody tr th {\n",
       "        vertical-align: top;\n",
       "    }\n",
       "\n",
       "    .dataframe thead th {\n",
       "        text-align: right;\n",
       "    }\n",
       "</style>\n",
       "<table border=\"1\" class=\"dataframe\">\n",
       "  <thead>\n",
       "    <tr style=\"text-align: right;\">\n",
       "      <th></th>\n",
       "      <th>label</th>\n",
       "      <th>pixels</th>\n",
       "      <th>scaled_pixels</th>\n",
       "      <th>Word</th>\n",
       "      <th>checklist</th>\n",
       "      <th>token</th>\n",
       "      <th>token_trial</th>\n",
       "      <th>word</th>\n",
       "      <th>bopomofo</th>\n",
       "      <th>consonant</th>\n",
       "      <th>vowel</th>\n",
       "      <th>block</th>\n",
       "    </tr>\n",
       "  </thead>\n",
       "  <tbody>\n",
       "    <tr>\n",
       "      <th>0</th>\n",
       "      <td>r_u_4_rep1</td>\n",
       "      <td>[0.0, 0.0, 0.0, 0.0, 0.0, 0.0, 0.0, 0.0, 0.0, ...</td>\n",
       "      <td>[0.0, 0.0, 0.0, 0.0, 0.0, 0.0, 0.0, 0.0, -0.21...</td>\n",
       "      <td>入 ㄖㄨˋ</td>\n",
       "      <td>True</td>\n",
       "      <td>r_u_4</td>\n",
       "      <td>r_u_4_rep1</td>\n",
       "      <td>入</td>\n",
       "      <td>ㄖㄨˋ</td>\n",
       "      <td>r</td>\n",
       "      <td>u</td>\n",
       "      <td>4</td>\n",
       "    </tr>\n",
       "    <tr>\n",
       "      <th>1</th>\n",
       "      <td>ch_apical_2_rep1</td>\n",
       "      <td>[0.0, 0.0, 0.0, 0.0, 0.0, 0.0, 0.0, 0.0, 0.0, ...</td>\n",
       "      <td>[0.0, 0.0, 0.0, 0.0, 0.0, 0.0, 0.0, 0.0, -0.21...</td>\n",
       "      <td>池 ㄔˊ</td>\n",
       "      <td>True</td>\n",
       "      <td>ch_apical_2</td>\n",
       "      <td>ch_apical_2_rep1</td>\n",
       "      <td>池</td>\n",
       "      <td>ㄔˊ</td>\n",
       "      <td>ch</td>\n",
       "      <td>apical</td>\n",
       "      <td>2</td>\n",
       "    </tr>\n",
       "    <tr>\n",
       "      <th>2</th>\n",
       "      <td>ch_apical_3_rep1</td>\n",
       "      <td>[0.0, 0.0, 0.0, 0.0, 0.0, 0.0, 0.0, 0.0, 0.0, ...</td>\n",
       "      <td>[0.0, 0.0, 0.0, 0.0, 0.0, 0.0, 0.0, 0.0, -0.21...</td>\n",
       "      <td>恥 ㄔˇ</td>\n",
       "      <td>True</td>\n",
       "      <td>ch_apical_3</td>\n",
       "      <td>ch_apical_3_rep1</td>\n",
       "      <td>恥</td>\n",
       "      <td>ㄔˇ</td>\n",
       "      <td>ch</td>\n",
       "      <td>apical</td>\n",
       "      <td>3</td>\n",
       "    </tr>\n",
       "    <tr>\n",
       "      <th>3</th>\n",
       "      <td>sh_a_1_rep1</td>\n",
       "      <td>[0.0, 0.0, 0.0, 0.0, 0.0, 0.0, 0.0, 0.0, 0.0, ...</td>\n",
       "      <td>[0.0, 0.0, 0.0, 0.0, 0.0, 0.0, 0.0, 0.0, -0.21...</td>\n",
       "      <td>沙 ㄕㄚ</td>\n",
       "      <td>True</td>\n",
       "      <td>sh_a_1</td>\n",
       "      <td>sh_a_1_rep1</td>\n",
       "      <td>沙</td>\n",
       "      <td>ㄕㄚ</td>\n",
       "      <td>sh</td>\n",
       "      <td>a</td>\n",
       "      <td>1</td>\n",
       "    </tr>\n",
       "    <tr>\n",
       "      <th>4</th>\n",
       "      <td>ch_schwa_1_rep1</td>\n",
       "      <td>[0.0, 0.0, 0.0, 0.0, 0.0, 0.0, 0.0, 0.0, 0.0, ...</td>\n",
       "      <td>[0.0, 0.0, 0.0, 0.0, 0.0, 0.0, 0.0, 0.0, -0.21...</td>\n",
       "      <td>車 ㄔㄜ</td>\n",
       "      <td>True</td>\n",
       "      <td>ch_schwa_1</td>\n",
       "      <td>ch_schwa_1_rep1</td>\n",
       "      <td>車</td>\n",
       "      <td>ㄔㄜ</td>\n",
       "      <td>ch</td>\n",
       "      <td>schwa</td>\n",
       "      <td>1</td>\n",
       "    </tr>\n",
       "  </tbody>\n",
       "</table>\n",
       "</div>"
      ],
      "text/plain": [
       "              label                                             pixels  \\\n",
       "0        r_u_4_rep1  [0.0, 0.0, 0.0, 0.0, 0.0, 0.0, 0.0, 0.0, 0.0, ...   \n",
       "1  ch_apical_2_rep1  [0.0, 0.0, 0.0, 0.0, 0.0, 0.0, 0.0, 0.0, 0.0, ...   \n",
       "2  ch_apical_3_rep1  [0.0, 0.0, 0.0, 0.0, 0.0, 0.0, 0.0, 0.0, 0.0, ...   \n",
       "3       sh_a_1_rep1  [0.0, 0.0, 0.0, 0.0, 0.0, 0.0, 0.0, 0.0, 0.0, ...   \n",
       "4   ch_schwa_1_rep1  [0.0, 0.0, 0.0, 0.0, 0.0, 0.0, 0.0, 0.0, 0.0, ...   \n",
       "\n",
       "                                       scaled_pixels   Word  checklist  \\\n",
       "0  [0.0, 0.0, 0.0, 0.0, 0.0, 0.0, 0.0, 0.0, -0.21...  入 ㄖㄨˋ       True   \n",
       "1  [0.0, 0.0, 0.0, 0.0, 0.0, 0.0, 0.0, 0.0, -0.21...   池 ㄔˊ       True   \n",
       "2  [0.0, 0.0, 0.0, 0.0, 0.0, 0.0, 0.0, 0.0, -0.21...   恥 ㄔˇ       True   \n",
       "3  [0.0, 0.0, 0.0, 0.0, 0.0, 0.0, 0.0, 0.0, -0.21...   沙 ㄕㄚ       True   \n",
       "4  [0.0, 0.0, 0.0, 0.0, 0.0, 0.0, 0.0, 0.0, -0.21...   車 ㄔㄜ       True   \n",
       "\n",
       "         token       token_trial word bopomofo consonant   vowel  block  \n",
       "0        r_u_4        r_u_4_rep1    入      ㄖㄨˋ         r       u      4  \n",
       "1  ch_apical_2  ch_apical_2_rep1    池       ㄔˊ        ch  apical      2  \n",
       "2  ch_apical_3  ch_apical_3_rep1    恥       ㄔˇ        ch  apical      3  \n",
       "3       sh_a_1       sh_a_1_rep1    沙       ㄕㄚ        sh       a      1  \n",
       "4   ch_schwa_1   ch_schwa_1_rep1    車       ㄔㄜ        ch   schwa      1  "
      ]
     },
     "execution_count": 2,
     "metadata": {},
     "output_type": "execute_result"
    }
   ],
   "source": [
    "# Define the path to the preprocessed data\n",
    "preprocessed_data_path = './preprocessed_data'\n",
    "\n",
    "# Load the original image DataFrame\n",
    "image_df = pd.read_pickle(os.path.join(preprocessed_data_path, 'original_image_df.pkl'))\n",
    "\n",
    "# Load the Gaussian-filtered image DataFrame\n",
    "gaussian_image_df = pd.read_pickle(os.path.join(preprocessed_data_path, 'gaussian_image_df.pkl'))\n",
    "\n",
    "# Load the merged DataFrame with metadata\n",
    "merged_df = pd.read_pickle(os.path.join(preprocessed_data_path, 'merged_df.pkl'))\n",
    "\n",
    "# Display the first few rows of the merged DataFrame\n",
    "merged_df.head()"
   ]
  },
  {
   "cell_type": "markdown",
   "metadata": {},
   "source": [
    "## Clustering Methods\n",
    "\n",
    "We will explore four clustering approaches:\n",
    "\n",
    "1. K-means Clustering with PCA: <br /> \n",
    "> Apply K-means clustering on the scaled pixel data and use PCA for visualization.\n",
    "\n",
    "2. K-means Clustering with UMAP: <br /> \n",
    "> Apply K-means clustering on the scaled pixel data and use UMAP for visualization.\n",
    "\n",
    "3. PCA followed by K-means Clustering: <br /> \n",
    "> Reduce dimensionality with PCA before applying K-means clustering.\n",
    "\n",
    "4. UMAP followed by K-means Clustering: <br /> \n",
    "> Reduce dimensionality with UMAP before applying K-means clustering.\n",
    "\n",
    "Each method involves clustering for k=1 to k=10, plotting the elbow plot, and visualizing the clusters."
   ]
  },
  {
   "cell_type": "markdown",
   "metadata": {},
   "source": [
    "### 1. K-means Clustering with PCA\n",
    "\n",
    "In this approach, we apply K-means clustering directly on the scaled pixel data and use PCA to reduce dimensions for visualization purposes."
   ]
  },
  {
   "cell_type": "markdown",
   "metadata": {},
   "source": [
    "#### 1.1 Data Preparation\n",
    "\n",
    "We stack the scaled pixel arrays vertically to create a 2D NumPy array suitable for clustering algorithms"
   ]
  },
  {
   "cell_type": "code",
   "execution_count": 3,
   "metadata": {},
   "outputs": [],
   "source": [
    "# Extract scaled pixel data from the merged DataFrame\n",
    "# Assuming 'scaled_pixels' is a list of scaled pixel arrays\n",
    "scaled_pixel_data = np.vstack(merged_df['scaled_pixels'].values)  # Shape: (2700, 4500)"
   ]
  },
  {
   "cell_type": "markdown",
   "metadata": {},
   "source": [
    "#### 1.2 K-means Clustering for k=1 to k=10\n",
    "\n",
    "K-means Clustering: <br />\n",
    "> For each value of k (from 1 to 10), we fit a K-means model to the scaled pixel data.\n",
    "\n",
    "Inertia Calculation: <br />\n",
    "> Inertia measures the sum of squared distances of samples to their closest cluster center, useful for determining the optimal k.\n",
    "\n",
    "Storing Labels: <br />\n",
    "> Cluster labels for each k are stored for later visualization."
   ]
  },
  {
   "cell_type": "code",
   "execution_count": 4,
   "metadata": {},
   "outputs": [],
   "source": [
    "# Define the range of k values\n",
    "k_values = range(1, 11)\n",
    "\n",
    "# Initialize lists to store inertia values and cluster labels\n",
    "inertia_values = []\n",
    "cluster_labels_dict = {}\n",
    "\n",
    "# Perform K-means clustering for each k\n",
    "for k in k_values:\n",
    "    kmeans = KMeans(n_clusters=k, random_state=42)\n",
    "    kmeans.fit(scaled_pixel_data)\n",
    "    inertia_values.append(kmeans.inertia_)\n",
    "    cluster_labels_dict[k] = kmeans.labels_\n"
   ]
  },
  {
   "cell_type": "markdown",
   "metadata": {},
   "source": [
    "#### 1.3 Elbow Plot to Determine Optimal k\n",
    "\n",
    "Elbow Method: <br />\n",
    "\n",
    "> Plotting inertia against k helps identify the point where adding more clusters doesn't significantly reduce inertia, suggesting an optimal k.\n"
   ]
  },
  {
   "cell_type": "code",
   "execution_count": 13,
   "metadata": {},
   "outputs": [],
   "source": [
    "# Use KneeLocator to find the elbow point\n",
    "kl = KneeLocator(k_values, inertia_values, curve='convex', direction='decreasing')\n",
    "optimal_k = kl.elbow\n",
    "\n",
    "# Plot the inertia values with the elbow point\n",
    "elbow_fig = go.Figure()\n",
    "\n",
    "elbow_fig.add_trace(go.Scatter(\n",
    "    x=list(k_values),\n",
    "    y=inertia_values,\n",
    "    mode='lines+markers',\n",
    "    name='Inertia'\n",
    "))\n",
    "\n",
    "if optimal_k:\n",
    "    elbow_fig.add_vline(x=optimal_k, line_dash=\"dash\", line_color=\"red\", annotation_text=\"Elbow\")\n",
    "\n",
    "elbow_fig.update_layout(\n",
    "    title=\"Elbow Plot for K-means Clustering with PCA\",\n",
    "    xaxis_title=\"Number of Clusters (k)\",\n",
    "    yaxis_title=\"Inertia\",\n",
    "    xaxis=dict(tickmode='linear', tick0=1, dtick=1)\n",
    ")\n",
    "\n",
    "# Save the elbow plot as an HTML string\n",
    "elbow_plot_html = pio.to_html(elbow_fig, include_plotlyjs=False, full_html=False)\n",
    "\n",
    "# Insert the Plotly CDN script into the head section\n",
    "plotly_cdn_script = '<script src=\"https://cdn.plot.ly/plotly-latest.min.js\"></script>'\n",
    "elbow_plot_html = elbow_plot_html.replace('<head>', f'<head>{plotly_cdn_script}')"
   ]
  },
  {
   "cell_type": "markdown",
   "metadata": {},
   "source": [
    "#### 1.4. PCA for Dimensionality Reduction\n",
    "\n",
    "Reduces the high-dimensional pixel data to 2 principal components, facilitating 2D visualization of the clusters."
   ]
  },
  {
   "cell_type": "code",
   "execution_count": 6,
   "metadata": {},
   "outputs": [],
   "source": [
    "# Apply PCA to reduce dimensions to 2 for visualization\n",
    "pca = PCA(n_components=2, random_state=42)\n",
    "pixel_pca = pca.fit_transform(scaled_pixel_data)"
   ]
  },
  {
   "cell_type": "markdown",
   "metadata": {},
   "source": [
    "#### 1.5. Visualizing Clustering Results with PCA\n",
    "\n",
    "##### 1.5.1 Interactive Plot for Each k (k=1 to k=10)"
   ]
  },
  {
   "cell_type": "code",
   "execution_count": 9,
   "metadata": {},
   "outputs": [],
   "source": [
    "import os\n",
    "import plotly.io as pio\n",
    "\n",
    "# Create a directory to save individual HTML plots\n",
    "individual_html_dir = os.path.abspath('./clustering_results/kmeans_pca_individual')\n",
    "os.makedirs(individual_html_dir, exist_ok=True)\n",
    "\n",
    "# Add the script tag to the Plotly CDN\n",
    "plotly_cdn_script = '<script src=\"https://cdn.plot.ly/plotly-latest.min.js\"></script>'\n",
    "\n",
    "individual_plots_html = \"\"\n",
    "\n",
    "for k, labels in cluster_labels_dict.items():\n",
    "    fig = go.Figure(data=go.Scatter(\n",
    "        x=pixel_pca[:, 0],\n",
    "        y=pixel_pca[:, 1],\n",
    "        mode='markers',\n",
    "        marker=dict(color=labels, colorscale='Viridis', size=5),\n",
    "        text=merged_df['label'],\n",
    "        hoverinfo='text'\n",
    "    ))\n",
    "    \n",
    "    fig.update_layout(\n",
    "        title=f'K-means Clustering with PCA (k={k})',\n",
    "        xaxis_title='Principal Component 1',\n",
    "        yaxis_title='Principal Component 2'\n",
    "    )\n",
    "    \n",
    "    # Save each plot as an HTML string, without the default Plotly JS script\n",
    "    individual_plot_html = pio.to_html(fig, include_plotlyjs=False, full_html=True)\n",
    "\n",
    "    # Add the Plotly CDN script to the head section\n",
    "    individual_plot_html = individual_plot_html.replace('<head>', f'<head>{plotly_cdn_script}')\n",
    "    \n",
    "    # Append to the combined HTML string for all plots\n",
    "    individual_plots_html += individual_plot_html\n",
    "    \n",
    "    # Save each plot as a separate HTML file using the absolute path\n",
    "    output_path = os.path.join(individual_html_dir, f'kmeans_pca_k{k}.html')\n",
    "    \n",
    "    # Write the HTML with the CDN script added\n",
    "    with open(output_path, 'w') as f:\n",
    "        f.write(individual_plot_html)"
   ]
  },
  {
   "cell_type": "markdown",
   "metadata": {},
   "source": [
    "##### 1.5.2. Juxtaposed Plots for All k's"
   ]
  },
  {
   "cell_type": "code",
   "execution_count": 12,
   "metadata": {},
   "outputs": [],
   "source": [
    "from plotly.subplots import make_subplots\n",
    "\n",
    "# Determine the layout for subplots\n",
    "cols = 5  # Number of columns\n",
    "rows = 2  # Number of rows (since 10 plots, 2 rows x 5 columns)\n",
    "\n",
    "# Create subplot figure with the specified number of rows and columns\n",
    "subplot_fig = make_subplots(rows=rows, cols=cols, subplot_titles=[f'k={k}' for k in k_values])\n",
    "\n",
    "# Add each clustering plot to the subplot\n",
    "for i, (k, labels) in enumerate(cluster_labels_dict.items()):\n",
    "    row = (i // cols) + 1\n",
    "    col = (i % cols) + 1\n",
    "    subplot_fig.add_trace(\n",
    "        go.Scatter(\n",
    "            x=pixel_pca[:, 0],\n",
    "            y=pixel_pca[:, 1],\n",
    "            mode='markers',\n",
    "            marker=dict(color=labels, colorscale='Viridis', size=2),\n",
    "            text=merged_df['label'],\n",
    "            hoverinfo='text',\n",
    "            showlegend=False\n",
    "        ),\n",
    "        row=row, col=col\n",
    "    )\n",
    "\n",
    "# Update layout\n",
    "subplot_fig.update_layout(\n",
    "    title_text='K-means Clustering with PCA (k=1 to 10)',\n",
    "    height=800,  # Adjust height if necessary\n",
    "    width=1200   # Adjust width if necessary\n",
    ")\n",
    "\n",
    "# Save the juxtaposed plot as an HTML string\n",
    "juxtaposed_plot_html = pio.to_html(subplot_fig, include_plotlyjs=False, full_html=True)\n",
    "\n",
    "# Insert the Plotly CDN script into the head section\n",
    "juxtaposed_plot_html = juxtaposed_plot_html.replace('<head>', f'<head>{plotly_cdn_script}')\n",
    "\n",
    "# Save the juxtaposed plot as a single HTML file\n",
    "juxtaposed_output_path = os.path.join('./clustering_results/', 'kmeans_pca_juxtaposed.html')\n",
    "with open(juxtaposed_output_path, 'w') as f:\n",
    "    f.write(juxtaposed_plot_html)"
   ]
  },
  {
   "cell_type": "markdown",
   "metadata": {},
   "source": [
    "##### Exporting Clustering Results for K-means with PCA"
   ]
  },
  {
   "cell_type": "code",
   "execution_count": 14,
   "metadata": {},
   "outputs": [
    {
     "name": "stdout",
     "output_type": "stream",
     "text": [
      "K-means with PCA clustering results have been exported to ./clustering_results/kmeans_pca_results.html\n"
     ]
    }
   ],
   "source": [
    "# Combine all HTML parts into one complete HTML document\n",
    "kmeans_pca_html = f\"\"\"\n",
    "<html>\n",
    "<head>\n",
    "    <meta charset='utf-8' />\n",
    "    {plotly_cdn_script}\n",
    "</head>\n",
    "<body>\n",
    "    <h1>K-means Clustering with PCA</h1>\n",
    "    <h2>Elbow Plot</h2>\n",
    "    {elbow_plot_html}\n",
    "    <h2>Individual Clustering Plots (k=1 to k=10)</h2>\n",
    "    {individual_plots_html}\n",
    "    <h2>Juxtaposed Clustering Plots (k=1 to k=10)</h2>\n",
    "    {juxtaposed_plot_html}\n",
    "</body>\n",
    "</html>\n",
    "\"\"\"\n",
    "\n",
    "# Define the output HTML file path\n",
    "kmeans_pca_output_html = './clustering_results/kmeans_pca_results.html'\n",
    "\n",
    "# Save the combined HTML to a file\n",
    "with open(kmeans_pca_output_html, 'w', encoding='utf-8') as f:\n",
    "    f.write(kmeans_pca_html)\n",
    "\n",
    "print(f\"K-means with PCA clustering results have been exported to {kmeans_pca_output_html}\")\n"
   ]
  },
  {
   "cell_type": "markdown",
   "metadata": {},
   "source": [
    "### 2. K-means Clustering with UMAP\n",
    "\n",
    "In this approach, we apply K-means clustering on the scaled pixel data and use UMAP for dimensionality reduction to visualize the clusters.\n",
    "\n",
    "#### 2.1 UMAP for Dimensionality Reduction\n",
    "\n",
    "UMAP Application: Reduces the high-dimensional pixel data to 2 dimensions using UMAP, which often preserves both local and global data structure better than PCA."
   ]
  },
  {
   "cell_type": "code",
   "execution_count": 15,
   "metadata": {},
   "outputs": [],
   "source": [
    "# Apply UMAP to reduce dimensions to 2 for visualization\n",
    "umap_reducer = umap.UMAP(n_components=2, random_state=42)\n",
    "umap_embedding = umap_reducer.fit_transform(scaled_pixel_data)"
   ]
  },
  {
   "cell_type": "markdown",
   "metadata": {},
   "source": [
    "#### 2.2. Visualizing Clustering Results with UMAP\n",
    "\n",
    "##### 2.2.1. Interactive Plot for Each k (k=1 to k=10)"
   ]
  },
  {
   "cell_type": "code",
   "execution_count": 16,
   "metadata": {},
   "outputs": [],
   "source": [
    "# Create a directory to save individual HTML plots\n",
    "umap_individual_html_dir = './clustering_results/kmeans_umap_individual'\n",
    "os.makedirs(umap_individual_html_dir, exist_ok=True)\n",
    "\n",
    "umap_individual_plots_html = \"\"\n",
    "\n",
    "for k, labels in cluster_labels_dict.items():\n",
    "    fig = go.Figure(data=go.Scatter(\n",
    "        x=umap_embedding[:, 0],\n",
    "        y=umap_embedding[:, 1],\n",
    "        mode='markers',\n",
    "        marker=dict(color=labels, colorscale='Viridis', size=5),\n",
    "        text=merged_df['label'],\n",
    "        hoverinfo='text'\n",
    "    ))\n",
    "    \n",
    "    fig.update_layout(\n",
    "        title=f'K-means Clustering with UMAP (k={k})',\n",
    "        xaxis_title='UMAP Dimension 1',\n",
    "        yaxis_title='UMAP Dimension 2'\n",
    "    )\n",
    "    \n",
    "    # Save each plot as an HTML string\n",
    "    individual_plot_html = pio.to_html(fig, include_plotlyjs=False, full_html=True)\n",
    "    \n",
    "    # Insert the Plotly CDN script into the head section\n",
    "    individual_plot_html = individual_plot_html.replace('<head>', f'<head>{plotly_cdn_script}')\n",
    "    \n",
    "    # Append to the combined HTML string for all plots\n",
    "    umap_individual_plots_html += individual_plot_html\n",
    "    \n",
    "    # Save each plot as a separate HTML file\n",
    "    output_path = os.path.join(umap_individual_html_dir, f'kmeans_umap_k{k}.html')\n",
    "    with open(output_path, 'w') as f:\n",
    "        f.write(individual_plot_html)\n"
   ]
  },
  {
   "cell_type": "markdown",
   "metadata": {},
   "source": [
    "##### 2.2.2. Juxtaposed Plots for All k's"
   ]
  },
  {
   "cell_type": "code",
   "execution_count": 17,
   "metadata": {},
   "outputs": [],
   "source": [
    "from plotly.subplots import make_subplots\n",
    "\n",
    "# Determine the layout for subplots\n",
    "cols = 5  # Number of columns\n",
    "rows = 2  # Number of rows\n",
    "\n",
    "# Create subplot figure with the specified number of rows and columns\n",
    "umap_subplot_fig = make_subplots(rows=rows, cols=cols, subplot_titles=[f'k={k}' for k in k_values])\n",
    "\n",
    "# Add each clustering plot to the subplot\n",
    "for i, (k, labels) in enumerate(cluster_labels_dict.items()):\n",
    "    row = (i // cols) + 1\n",
    "    col = (i % cols) + 1\n",
    "    umap_subplot_fig.add_trace(\n",
    "        go.Scatter(\n",
    "            x=umap_embedding[:, 0],\n",
    "            y=umap_embedding[:, 1],\n",
    "            mode='markers',\n",
    "            marker=dict(color=labels, colorscale='Viridis', size=2),\n",
    "            text=merged_df['label'],\n",
    "            hoverinfo='text',\n",
    "            showlegend=False\n",
    "        ),\n",
    "        row=row, col=col\n",
    "    )\n",
    "\n",
    "# Update layout\n",
    "umap_subplot_fig.update_layout(\n",
    "    title_text='K-means Clustering with UMAP (k=1 to 10)',\n",
    "    height=800,  # Adjust height if necessary\n",
    "    width=1200   # Adjust width if necessary\n",
    ")\n",
    "\n",
    "# Save the juxtaposed plot as an HTML string\n",
    "umap_juxtaposed_plot_html = pio.to_html(umap_subplot_fig, include_plotlyjs=False, full_html=True)\n",
    "\n",
    "# Insert the Plotly CDN script into the head section\n",
    "umap_juxtaposed_plot_html = umap_juxtaposed_plot_html.replace('<head>', f'<head>{plotly_cdn_script}')\n",
    "\n",
    "# Save the juxtaposed plot as a single HTML file\n",
    "umap_juxtaposed_output_path = os.path.join('./clustering_results/', 'kmeans_umap_juxtaposed.html')\n",
    "with open(umap_juxtaposed_output_path, 'w') as f:\n",
    "    f.write(umap_juxtaposed_plot_html)"
   ]
  },
  {
   "cell_type": "markdown",
   "metadata": {},
   "source": [
    "##### Exporting Clustering Results for K-means with UMAP"
   ]
  },
  {
   "cell_type": "code",
   "execution_count": 18,
   "metadata": {},
   "outputs": [
    {
     "name": "stdout",
     "output_type": "stream",
     "text": [
      "K-means with UMAP clustering results have been exported to ./clustering_results/kmeans_umap_results.html\n"
     ]
    }
   ],
   "source": [
    "# Combine all HTML parts into one complete HTML document\n",
    "kmeans_umap_html = f\"\"\"\n",
    "<html>\n",
    "<head>\n",
    "    <meta charset='utf-8' />\n",
    "    {plotly_cdn_script}\n",
    "</head>\n",
    "<body>\n",
    "    <h1>K-means Clustering with UMAP</h1>\n",
    "    <h2>Elbow Plot</h2>\n",
    "    {elbow_plot_html}\n",
    "    <h2>Individual Clustering Plots (k=1 to k=10)</h2>\n",
    "    {umap_individual_plots_html}\n",
    "    <h2>Juxtaposed Clustering Plots (k=1 to k=10)</h2>\n",
    "    {umap_juxtaposed_plot_html}\n",
    "</body>\n",
    "</html>\n",
    "\"\"\"\n",
    "\n",
    "# Define the output HTML file path\n",
    "kmeans_umap_output_html = './clustering_results/kmeans_umap_results.html'\n",
    "\n",
    "# Save the combined HTML to a file\n",
    "with open(kmeans_umap_output_html, 'w', encoding='utf-8') as f:\n",
    "    f.write(kmeans_umap_html)\n",
    "\n",
    "print(f\"K-means with UMAP clustering results have been exported to {kmeans_umap_output_html}\")\n"
   ]
  },
  {
   "cell_type": "markdown",
   "metadata": {},
   "source": [
    "### 3. PCA followed by K-means Clustering\n",
    "\n",
    "In this method, we first reduce the dimensionality of the data using PCA and then apply K-means clustering on the reduced data.\n",
    "\n",
    "#### 3.1. PCA for Dimensionality Reduction\n",
    "\n",
    "PCA Reduces the data to 2 principal components, preparing it for clustering."
   ]
  },
  {
   "cell_type": "code",
   "execution_count": 19,
   "metadata": {},
   "outputs": [],
   "source": [
    "# Apply PCA to reduce dimensions to 2 for clustering\n",
    "pca_for_clustering = PCA(n_components=2, random_state=42)\n",
    "pca_data = pca_for_clustering.fit_transform(scaled_pixel_data)"
   ]
  },
  {
   "cell_type": "markdown",
   "metadata": {},
   "source": [
    "#### 3.2. K-means Clustering on PCA-reduced Data"
   ]
  },
  {
   "cell_type": "code",
   "execution_count": 20,
   "metadata": {},
   "outputs": [],
   "source": [
    "# Initialize lists to store inertia values and cluster labels\n",
    "inertia_pca_clustering = []\n",
    "cluster_labels_pca_clustering = {}\n",
    "\n",
    "for k in k_values:\n",
    "    kmeans = KMeans(n_clusters=k, random_state=42)\n",
    "    kmeans.fit(pca_data)\n",
    "    inertia_pca_clustering.append(kmeans.inertia_)\n",
    "    cluster_labels_pca_clustering[k] = kmeans.labels_\n"
   ]
  },
  {
   "cell_type": "markdown",
   "metadata": {},
   "source": [
    "#### 3.3. Elbow Plot for PCA + K-means"
   ]
  },
  {
   "cell_type": "code",
   "execution_count": 21,
   "metadata": {},
   "outputs": [],
   "source": [
    "# Use KneeLocator to find the elbow point\n",
    "kl_pca_clustering = KneeLocator(k_values, inertia_pca_clustering, curve='convex', direction='decreasing')\n",
    "optimal_k_pca_clustering = kl_pca_clustering.elbow\n",
    "\n",
    "# Plot the inertia values with the elbow point\n",
    "elbow_pca_clustering_fig = go.Figure()\n",
    "\n",
    "elbow_pca_clustering_fig.add_trace(go.Scatter(\n",
    "    x=list(k_values),\n",
    "    y=inertia_pca_clustering,\n",
    "    mode='lines+markers',\n",
    "    name='Inertia'\n",
    "))\n",
    "\n",
    "if optimal_k_pca_clustering:\n",
    "    elbow_pca_clustering_fig.add_vline(x=optimal_k_pca_clustering, line_dash=\"dash\", line_color=\"red\", annotation_text=\"Elbow\")\n",
    "\n",
    "elbow_pca_clustering_fig.update_layout(\n",
    "    title=\"Elbow Plot for PCA + K-means Clustering\",\n",
    "    xaxis_title=\"Number of Clusters (k)\",\n",
    "    yaxis_title=\"Inertia\",\n",
    "    xaxis=dict(tickmode='linear', tick0=1, dtick=1)\n",
    ")\n",
    "\n",
    "# Save the elbow plot as an HTML string\n",
    "elbow_pca_clustering_html = pio.to_html(elbow_pca_clustering_fig, include_plotlyjs=False, full_html=False)\n",
    "\n",
    "# Insert the Plotly CDN script into the head section\n",
    "elbow_pca_clustering_html = elbow_pca_clustering_html.replace('<head>', f'<head>{plotly_cdn_script}')\n"
   ]
  },
  {
   "cell_type": "markdown",
   "metadata": {},
   "source": [
    "#### 3.4. Visualizing Clustering Results on PCA-reduced Data\n",
    "\n",
    "##### 3.4.1. Interactive Plot for Each k (k=1 to k=10)"
   ]
  },
  {
   "cell_type": "code",
   "execution_count": 22,
   "metadata": {},
   "outputs": [],
   "source": [
    "import os\n",
    "import plotly.io as pio\n",
    "\n",
    "# Create a directory to save individual HTML plots\n",
    "pca_kmeans_individual_html_dir = os.path.abspath('./clustering_results/pca_kmeans_individual')\n",
    "os.makedirs(pca_kmeans_individual_html_dir, exist_ok=True)\n",
    "\n",
    "pca_kmeans_individual_plots_html = \"\"\n",
    "\n",
    "for k, labels in cluster_labels_pca_clustering.items():\n",
    "    fig = go.Figure(data=go.Scatter(\n",
    "        x=pca_data[:, 0],\n",
    "        y=pca_data[:, 1],\n",
    "        mode='markers',\n",
    "        marker=dict(color=labels, colorscale='Viridis', size=5),\n",
    "        text=merged_df['label'],\n",
    "        hoverinfo='text'\n",
    "    ))\n",
    "    \n",
    "    fig.update_layout(\n",
    "        title=f'PCA + K-means Clustering (k={k})',\n",
    "        xaxis_title='Principal Component 1',\n",
    "        yaxis_title='Principal Component 2'\n",
    "    )\n",
    "    \n",
    "    # Save each plot as an HTML string\n",
    "    individual_plot_html = pio.to_html(fig, include_plotlyjs=False, full_html=True)\n",
    "    individual_plot_html = individual_plot_html.replace('<head>', f'<head>{plotly_cdn_script}')\n",
    "    pca_kmeans_individual_plots_html += individual_plot_html\n",
    "    \n",
    "    # Save each plot as a separate HTML file\n",
    "    output_path = os.path.join(pca_kmeans_individual_html_dir, f'pca_kmeans_k{k}.html')\n",
    "    with open(output_path, 'w') as f:\n",
    "        f.write(individual_plot_html)\n"
   ]
  },
  {
   "cell_type": "markdown",
   "metadata": {},
   "source": [
    "##### 3.4.2. Juxtaposed Plots for All k's"
   ]
  },
  {
   "cell_type": "code",
   "execution_count": 23,
   "metadata": {},
   "outputs": [],
   "source": [
    "from plotly.subplots import make_subplots\n",
    "\n",
    "# Determine the layout for subplots\n",
    "cols = 5  # Number of columns\n",
    "rows = 2  # Number of rows (since 10 plots, 2 rows x 5 columns)\n",
    "\n",
    "# Create subplot figure with the specified number of rows and columns\n",
    "pca_kmeans_subplot_fig = make_subplots(rows=rows, cols=cols, subplot_titles=[f'k={k}' for k in k_values])\n",
    "\n",
    "# Add each clustering plot to the subplot\n",
    "for i, (k, labels) in enumerate(cluster_labels_pca_clustering.items()):\n",
    "    row = (i // cols) + 1\n",
    "    col = (i % cols) + 1\n",
    "    pca_kmeans_subplot_fig.add_trace(\n",
    "        go.Scatter(\n",
    "            x=pca_data[:, 0],\n",
    "            y=pca_data[:, 1],\n",
    "            mode='markers',\n",
    "            marker=dict(color=labels, colorscale='Viridis', size=2),\n",
    "            text=merged_df['label'],\n",
    "            hoverinfo='text',\n",
    "            showlegend=False\n",
    "        ),\n",
    "        row=row, col=col\n",
    "    )\n",
    "\n",
    "# Update layout\n",
    "pca_kmeans_subplot_fig.update_layout(\n",
    "    title_text='PCA + K-means Clustering (k=1 to 10)',\n",
    "    height=800,  # Adjust height if necessary\n",
    "    width=1200   # Adjust width if necessary\n",
    ")\n",
    "\n",
    "# Save the juxtaposed plot as an HTML string\n",
    "pca_kmeans_juxtaposed_plot_html = pio.to_html(pca_kmeans_subplot_fig, include_plotlyjs=False, full_html=True)\n",
    "\n",
    "# Insert the Plotly CDN script into the head section\n",
    "pca_kmeans_juxtaposed_plot_html = pca_kmeans_juxtaposed_plot_html.replace('<head>', f'<head>{plotly_cdn_script}')\n",
    "\n",
    "# Save the juxtaposed plot as a single HTML file\n",
    "pca_kmeans_juxtaposed_output_path = os.path.join('./clustering_results/', 'pca_kmeans_juxtaposed.html')\n",
    "with open(pca_kmeans_juxtaposed_output_path, 'w') as f:\n",
    "    f.write(pca_kmeans_juxtaposed_plot_html)"
   ]
  },
  {
   "cell_type": "markdown",
   "metadata": {},
   "source": [
    "##### Exporting Clustering Results for PCA + K-means"
   ]
  },
  {
   "cell_type": "code",
   "execution_count": 24,
   "metadata": {},
   "outputs": [
    {
     "name": "stdout",
     "output_type": "stream",
     "text": [
      "PCA + K-means clustering results have been exported to ./clustering_results/pca_kmeans_results.html\n"
     ]
    }
   ],
   "source": [
    "# Combine all HTML parts into one complete HTML document\n",
    "pca_kmeans_html = f\"\"\"\n",
    "<html>\n",
    "<head>\n",
    "    <meta charset='utf-8' />\n",
    "    {plotly_cdn_script}\n",
    "</head>\n",
    "<body>\n",
    "    <h1>PCA + K-means Clustering</h1>\n",
    "    <h2>Elbow Plot</h2>\n",
    "    {elbow_pca_clustering_html}\n",
    "    <h2>Individual Clustering Plots (k=1 to k=10)</h2>\n",
    "    {pca_kmeans_individual_plots_html}\n",
    "    <h2>Juxtaposed Clustering Plots (k=1 to k=10)</h2>\n",
    "    {juxtaposed_plot_html}\n",
    "</body>\n",
    "</html>\n",
    "\"\"\"\n",
    "\n",
    "# Define the output HTML file path\n",
    "pca_kmeans_output_html = './clustering_results/pca_kmeans_results.html'\n",
    "\n",
    "# Save the combined HTML to a file\n",
    "with open(pca_kmeans_output_html, 'w', encoding='utf-8') as f:\n",
    "    f.write(pca_kmeans_html)\n",
    "\n",
    "print(f\"PCA + K-means clustering results have been exported to {pca_kmeans_output_html}\")"
   ]
  },
  {
   "cell_type": "markdown",
   "metadata": {},
   "source": [
    "### 4. UMAP followed by K-means Clustering\n",
    "\n",
    "In this approach, we first reduce the dimensionality of the data using UMAP and then apply K-means clustering on the reduced data.\n",
    "\n",
    "##### 4.1. UMAP for Dimensionality Reduction\n",
    "\n",
    "We reduce the data to 2 UMAP dimensions, preparing it for clustering."
   ]
  },
  {
   "cell_type": "code",
   "execution_count": 25,
   "metadata": {},
   "outputs": [],
   "source": [
    "# Apply UMAP to reduce dimensions to 2 for clustering\n",
    "umap_reducer_for_clustering = umap.UMAP(n_components=2, random_state=42)\n",
    "umap_data = umap_reducer_for_clustering.fit_transform(scaled_pixel_data)"
   ]
  },
  {
   "cell_type": "markdown",
   "metadata": {},
   "source": [
    "##### 4.2. K-means Clustering on UMAP-reduced Data"
   ]
  },
  {
   "cell_type": "code",
   "execution_count": 26,
   "metadata": {},
   "outputs": [],
   "source": [
    "# Initialize lists to store inertia values and cluster labels\n",
    "inertia_umap_clustering = []\n",
    "cluster_labels_umap_clustering = {}\n",
    "\n",
    "for k in k_values:\n",
    "    kmeans = KMeans(n_clusters=k, random_state=42)\n",
    "    kmeans.fit(umap_data)\n",
    "    inertia_umap_clustering.append(kmeans.inertia_)\n",
    "    cluster_labels_umap_clustering[k] = kmeans.labels_\n"
   ]
  },
  {
   "cell_type": "markdown",
   "metadata": {},
   "source": [
    "#### 4.3. Elbow Plot for UMAP + K-means"
   ]
  },
  {
   "cell_type": "code",
   "execution_count": 27,
   "metadata": {},
   "outputs": [],
   "source": [
    "# Use KneeLocator to find the elbow point\n",
    "kl_umap_clustering = KneeLocator(k_values, inertia_umap_clustering, curve='convex', direction='decreasing')\n",
    "optimal_k_umap_clustering = kl_umap_clustering.elbow\n",
    "\n",
    "# Plot the inertia values with the elbow point\n",
    "elbow_umap_clustering_fig = go.Figure()\n",
    "\n",
    "elbow_umap_clustering_fig.add_trace(go.Scatter(\n",
    "    x=list(k_values),\n",
    "    y=inertia_umap_clustering,\n",
    "    mode='lines+markers',\n",
    "    name='Inertia'\n",
    "))\n",
    "\n",
    "if optimal_k_umap_clustering:\n",
    "    elbow_umap_clustering_fig.add_vline(x=optimal_k_umap_clustering, line_dash=\"dash\", line_color=\"red\", annotation_text=\"Elbow\")\n",
    "\n",
    "elbow_umap_clustering_fig.update_layout(\n",
    "    title=\"Elbow Plot for UMAP + K-means Clustering\",\n",
    "    xaxis_title=\"Number of Clusters (k)\",\n",
    "    yaxis_title=\"Inertia\",\n",
    "    xaxis=dict(tickmode='linear', tick0=1, dtick=1)\n",
    ")\n",
    "\n",
    "# Save the elbow plot as an HTML string\n",
    "elbow_umap_clustering_html = pio.to_html(elbow_umap_clustering_fig, include_plotlyjs=False, full_html=False)\n",
    "\n",
    "# Insert the Plotly CDN script into the head section\n",
    "elbow_umap_clustering_html = elbow_umap_clustering_html.replace('<head>', f'<head>{plotly_cdn_script}')\n"
   ]
  },
  {
   "cell_type": "markdown",
   "metadata": {},
   "source": [
    "#### 4.4. Visualizing Clustering Results on UMAP-reduced Data\n",
    "\n",
    "##### 4.4.1. Interactive Plot for Each k (k=1 to k=10)"
   ]
  },
  {
   "cell_type": "code",
   "execution_count": 28,
   "metadata": {},
   "outputs": [],
   "source": [
    "import os\n",
    "import plotly.io as pio\n",
    "\n",
    "# Create a directory to save individual HTML plots\n",
    "umap_kmeans_individual_html_dir = os.path.abspath('./clustering_results/umap_kmeans_individual')\n",
    "os.makedirs(umap_kmeans_individual_html_dir, exist_ok=True)\n",
    "\n",
    "umap_kmeans_individual_plots_html = \"\"\n",
    "\n",
    "for k, labels in cluster_labels_umap_clustering.items():\n",
    "    fig = go.Figure(data=go.Scatter(\n",
    "        x=umap_data[:, 0],\n",
    "        y=umap_data[:, 1],\n",
    "        mode='markers',\n",
    "        marker=dict(color=labels, colorscale='Viridis', size=5),\n",
    "        text=merged_df['label'],\n",
    "        hoverinfo='text'\n",
    "    ))\n",
    "    \n",
    "    fig.update_layout(\n",
    "        title=f'UMAP + K-means Clustering (k={k})',\n",
    "        xaxis_title='UMAP Dimension 1',\n",
    "        yaxis_title='UMAP Dimension 2'\n",
    "    )\n",
    "    \n",
    "    # Save each plot as an HTML string\n",
    "    individual_plot_html = pio.to_html(fig, include_plotlyjs=False, full_html=True)\n",
    "    individual_plot_html = individual_plot_html.replace('<head>', f'<head>{plotly_cdn_script}')\n",
    "    umap_kmeans_individual_plots_html += individual_plot_html\n",
    "    \n",
    "    # Save each plot as a separate HTML file\n",
    "    output_path = os.path.join(umap_kmeans_individual_html_dir, f'umap_kmeans_k{k}.html')\n",
    "    with open(output_path, 'w') as f:\n",
    "        f.write(individual_plot_html)\n"
   ]
  },
  {
   "cell_type": "markdown",
   "metadata": {},
   "source": [
    "##### 4.4.2. Juxtaposed Plots for All k's"
   ]
  },
  {
   "cell_type": "code",
   "execution_count": 29,
   "metadata": {},
   "outputs": [],
   "source": [
    "from plotly.subplots import make_subplots\n",
    "\n",
    "# Determine the layout for subplots\n",
    "cols = 5  # Number of columns\n",
    "rows = 2  # Number of rows\n",
    "\n",
    "# Create subplot figure with the specified number of rows and columns\n",
    "umap_kmeans_subplot_fig = make_subplots(rows=rows, cols=cols, subplot_titles=[f'k={k}' for k in k_values])\n",
    "\n",
    "# Add each clustering plot to the subplot\n",
    "for i, (k, labels) in enumerate(cluster_labels_umap_clustering.items()):\n",
    "    row = (i // cols) + 1\n",
    "    col = (i % cols) + 1\n",
    "    umap_kmeans_subplot_fig.add_trace(\n",
    "        go.Scatter(\n",
    "            x=umap_data[:, 0],\n",
    "            y=umap_data[:, 1],\n",
    "            mode='markers',\n",
    "            marker=dict(color=labels, colorscale='Viridis', size=2),\n",
    "            text=merged_df['label'],\n",
    "            hoverinfo='text',\n",
    "            showlegend=False\n",
    "        ),\n",
    "        row=row, col=col\n",
    "    )\n",
    "\n",
    "# Update layout\n",
    "umap_kmeans_subplot_fig.update_layout(\n",
    "    title_text='UMAP + K-means Clustering (k=1 to 10)',\n",
    "    height=800,  # Adjust height if necessary\n",
    "    width=1200   # Adjust width if necessary\n",
    ")\n",
    "\n",
    "# Save the juxtaposed plot as an HTML string\n",
    "umap_kmeans_juxtaposed_plot_html = pio.to_html(umap_kmeans_subplot_fig, include_plotlyjs=False, full_html=True)\n",
    "\n",
    "# Insert the Plotly CDN script into the head section\n",
    "umap_kmeans_juxtaposed_plot_html = umap_kmeans_juxtaposed_plot_html.replace('<head>', f'<head>{plotly_cdn_script}')\n",
    "\n",
    "# Save the juxtaposed plot as a single HTML file\n",
    "umap_kmeans_juxtaposed_output_path = os.path.join('./clustering_results/', 'umap_kmeans_juxtaposed.html')\n",
    "with open(umap_kmeans_juxtaposed_output_path, 'w') as f:\n",
    "    f.write(umap_kmeans_juxtaposed_plot_html)\n"
   ]
  },
  {
   "cell_type": "markdown",
   "metadata": {},
   "source": [
    "#### Exporting Clustering Results for UMAP + K-means"
   ]
  },
  {
   "cell_type": "code",
   "execution_count": 30,
   "metadata": {},
   "outputs": [
    {
     "name": "stdout",
     "output_type": "stream",
     "text": [
      "UMAP + K-means clustering results have been exported to ./clustering_results/umap_kmeans_results.html\n"
     ]
    }
   ],
   "source": [
    "# Combine all HTML parts into one complete HTML document\n",
    "umap_kmeans_html = f\"\"\"\n",
    "<html>\n",
    "<head>\n",
    "    <meta charset='utf-8' />\n",
    "    {plotly_cdn_script}\n",
    "</head>\n",
    "<body>\n",
    "    <h1>UMAP + K-means Clustering</h1>\n",
    "    <h2>Elbow Plot</h2>\n",
    "    {elbow_umap_clustering_html}\n",
    "    <h2>Individual Clustering Plots (k=1 to k=10)</h2>\n",
    "    {umap_kmeans_individual_plots_html}\n",
    "    <h2>Juxtaposed Clustering Plots (k=1 to k=10)</h2>\n",
    "    {umap_kmeans_juxtaposed_plot_html}\n",
    "</body>\n",
    "</html>\n",
    "\"\"\"\n",
    "\n",
    "# Define the output HTML file path\n",
    "umap_kmeans_output_html = './clustering_results/umap_kmeans_results.html'\n",
    "\n",
    "# Save the combined HTML to a file\n",
    "with open(umap_kmeans_output_html, 'w', encoding='utf-8') as f:\n",
    "    f.write(umap_kmeans_html)\n",
    "\n",
    "print(f\"UMAP + K-means clustering results have been exported to {umap_kmeans_output_html}\")\n"
   ]
  },
  {
   "cell_type": "code",
   "execution_count": null,
   "metadata": {},
   "outputs": [],
   "source": []
  }
 ],
 "metadata": {
  "kernelspec": {
   "display_name": "img-classification-env",
   "language": "python",
   "name": "python3"
  },
  "language_info": {
   "codemirror_mode": {
    "name": "ipython",
    "version": 3
   },
   "file_extension": ".py",
   "mimetype": "text/x-python",
   "name": "python",
   "nbconvert_exporter": "python",
   "pygments_lexer": "ipython3",
   "version": "3.10.13"
  }
 },
 "nbformat": 4,
 "nbformat_minor": 2
}
